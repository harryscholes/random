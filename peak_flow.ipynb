{
 "cells": [
  {
   "cell_type": "code",
   "execution_count": 1,
   "metadata": {
    "collapsed": true
   },
   "outputs": [],
   "source": [
    "import pandas as pd\n",
    "import matplotlib.pyplot as plt\n",
    "import seaborn as sns\n",
    "from scipy.stats import linregress, mannwhitneyu\n",
    "sns.set(style='ticks')\n",
    "%matplotlib inline"
   ]
  },
  {
   "cell_type": "code",
   "execution_count": 2,
   "metadata": {
    "collapsed": true
   },
   "outputs": [],
   "source": [
    "df = pd.read_csv(\"peak_flow.csv\")"
   ]
  },
  {
   "cell_type": "code",
   "execution_count": 3,
   "metadata": {
    "collapsed": true
   },
   "outputs": [],
   "source": [
    "date_fields = [\"hour\", \"day\", \"month\", \"year\"]\n",
    "dates = pd.to_datetime(df[date_fields])\n",
    "df.index = dates\n",
    "df = df.drop(date_fields, axis=1)"
   ]
  },
  {
   "cell_type": "code",
   "execution_count": 4,
   "metadata": {
    "collapsed": true
   },
   "outputs": [],
   "source": [
    "pre = [\"pre1\", \"pre2\", \"pre3\"]\n",
    "post = [\"post1\", \"post2\", \"post3\"]"
   ]
  },
  {
   "cell_type": "code",
   "execution_count": 5,
   "metadata": {
    "collapsed": true
   },
   "outputs": [],
   "source": [
    "def timeseries(ax):\n",
    "    df[\"diff\"] = df[post].mean(axis=1) - df[pre].mean(axis=1)\n",
    "    ax.plot(df[post].mean(axis=1), label=\"post-medication mean and range\")\n",
    "    ax.plot(df[pre].mean(axis=1), label=\"pre-medication mean and range\")\n",
    "    ax.fill_between(df.index, df[post].max(axis=1), df[post].min(axis=1), alpha=0.1)\n",
    "    ax.fill_between(df.index, df[pre].max(axis=1), df[pre].min(axis=1), alpha=0.1)\n",
    "    plt.draw()\n",
    "    xlabels = [i.get_text().split(\"-\") for i in ax.get_xticklabels()]\n",
    "    xlabels = [f\"{i[2]}/{i[1]}\" for i in xlabels]\n",
    "    \n",
    "    ax5 = ax.twinx()\n",
    "    ax5.bar(df.index, df[\"diff\"], color=sns.color_palette()[2], alpha=0.5, width=0.2)\n",
    "    ax5.set_ylabel(\"Difference (l/min)\", color=sns.color_palette()[2])\n",
    "    ax5.tick_params('y', colors=sns.color_palette()[2])\n",
    "    ax5.set_ylim(0,500)\n",
    "    ax5.set_yticks([0,100])\n",
    "    ax.set_xticklabels(xlabels)\n",
    "    ax.set_xlabel(\"Time (days)\")\n",
    "    ax.set_ylabel(\"Peak flow (l/min)\")\n",
    "    ax.legend()\n",
    "    return ax"
   ]
  },
  {
   "cell_type": "code",
   "execution_count": 6,
   "metadata": {
    "collapsed": true
   },
   "outputs": [],
   "source": [
    "def regression(ax):\n",
    "    x = df[pre].mean(axis=1)\n",
    "    y = df[post].mean(axis=1)\n",
    "    p = sns.regplot(x, y, ci=None, ax=ax, color=sns.color_palette()[2])\n",
    "    slope, intercept, r_value, p_value, std_err = linregress(x=p.get_lines()[0].get_xdata(),y=p.get_lines()[0].get_ydata())\n",
    "    ax.set_xlabel(\"Mean pre-medication peak flow (l/min)\")\n",
    "    ax.set_ylabel(\"Mean post-medication peak flow (l/min)\")\n",
    "    ax.text(x.min(), 0.97 * y.max(), f\"$y$ = {slope:.3f}$x$ + {int(intercept)}\\n $r^2$ = {r_value ** 2:.3f}\")\n",
    "    return ax"
   ]
  },
  {
   "cell_type": "code",
   "execution_count": null,
   "metadata": {
    "collapsed": true
   },
   "outputs": [],
   "source": [
    "def hist(ax):\n",
    "    posty = df[post].values.ravel()\n",
    "    prey = df[pre].values.ravel()\n",
    "    ax.hist(posty, label=\"post-medication\", alpha=0.5, color=sns.color_palette()[0])\n",
    "    ax.hist(prey, label=\"pre-medication\", alpha=0.5, color=sns.color_palette()[1])\n",
    "    ax.set_xlabel(\"Peak flow (l/min)\")\n",
    "    ax.set_ylabel(\"Frequency\")\n",
    "    p = mannwhitneyu(posty, prey, alternative='greater')[1]\n",
    "    ax.text(520, 14, f\"Mann-Whitney p-value = {p:.2e}\")\n",
    "    ax.legend()\n",
    "    return ax"
   ]
  },
  {
   "cell_type": "code",
   "execution_count": null,
   "metadata": {},
   "outputs": [
    {
     "ename": "NameError",
     "evalue": "name 'xlabel_ax' is not defined",
     "output_type": "error",
     "traceback": [
      "\u001b[0;31m---------------------------------------------------------------------------\u001b[0m",
      "\u001b[0;31mNameError\u001b[0m                                 Traceback (most recent call last)",
      "\u001b[0;32m<ipython-input-8-538bafbe8dcc>\u001b[0m in \u001b[0;36m<module>\u001b[0;34m()\u001b[0m\n\u001b[1;32m      4\u001b[0m \u001b[0max3\u001b[0m \u001b[0;34m=\u001b[0m \u001b[0mplt\u001b[0m\u001b[0;34m.\u001b[0m\u001b[0msubplot2grid\u001b[0m\u001b[0;34m(\u001b[0m\u001b[0;34m(\u001b[0m\u001b[0;36m2\u001b[0m\u001b[0;34m,\u001b[0m \u001b[0;36m2\u001b[0m\u001b[0;34m)\u001b[0m\u001b[0;34m,\u001b[0m \u001b[0;34m(\u001b[0m\u001b[0;36m1\u001b[0m\u001b[0;34m,\u001b[0m \u001b[0;36m1\u001b[0m\u001b[0;34m)\u001b[0m\u001b[0;34m,\u001b[0m \u001b[0mcolspan\u001b[0m\u001b[0;34m=\u001b[0m\u001b[0;36m1\u001b[0m\u001b[0;34m)\u001b[0m\u001b[0;34m\u001b[0m\u001b[0m\n\u001b[1;32m      5\u001b[0m \u001b[0max2\u001b[0m\u001b[0;34m.\u001b[0m\u001b[0mset_ylim\u001b[0m\u001b[0;34m(\u001b[0m\u001b[0;36m0\u001b[0m\u001b[0;34m,\u001b[0m\u001b[0;36m20\u001b[0m\u001b[0;34m)\u001b[0m\u001b[0;34m\u001b[0m\u001b[0m\n\u001b[0;32m----> 6\u001b[0;31m \u001b[0mtimeseries\u001b[0m\u001b[0;34m(\u001b[0m\u001b[0mxlabel_ax\u001b[0m\u001b[0;34m,\u001b[0m \u001b[0max1\u001b[0m\u001b[0;34m)\u001b[0m\u001b[0;34m\u001b[0m\u001b[0m\n\u001b[0m\u001b[1;32m      7\u001b[0m \u001b[0mhist\u001b[0m\u001b[0;34m(\u001b[0m\u001b[0max2\u001b[0m\u001b[0;34m)\u001b[0m\u001b[0;34m\u001b[0m\u001b[0m\n\u001b[1;32m      8\u001b[0m \u001b[0mregression\u001b[0m\u001b[0;34m(\u001b[0m\u001b[0max3\u001b[0m\u001b[0;34m)\u001b[0m\u001b[0;34m\u001b[0m\u001b[0m\n",
      "\u001b[0;31mNameError\u001b[0m: name 'xlabel_ax' is not defined"
     ]
    }
   ],
   "source": [
    "fig, a = plt.subplots(2, 2, figsize=(8, 6))\n",
    "ax1 = plt.subplot2grid((2, 2), (0, 0), colspan=2)\n",
    "ax2 = plt.subplot2grid((2, 2), (1, 0), colspan=1)\n",
    "ax3 = plt.subplot2grid((2, 2), (1, 1), colspan=1)\n",
    "ax2.set_ylim(0,20)\n",
    "timeseries(xlabel_ax, ax1)\n",
    "hist(ax2)\n",
    "regression(ax3)\n",
    "plt.tight_layout()\n",
    "plt.savefig(\"peak_flow.pdf\")"
   ]
  },
  {
   "cell_type": "code",
   "execution_count": null,
   "metadata": {
    "collapsed": true
   },
   "outputs": [],
   "source": []
  },
  {
   "cell_type": "code",
   "execution_count": null,
   "metadata": {
    "collapsed": true
   },
   "outputs": [],
   "source": []
  }
 ],
 "metadata": {
  "kernelspec": {
   "display_name": "Python 3",
   "language": "python",
   "name": "python3"
  },
  "language_info": {
   "codemirror_mode": {
    "name": "ipython",
    "version": 3
   },
   "file_extension": ".py",
   "mimetype": "text/x-python",
   "name": "python",
   "nbconvert_exporter": "python",
   "pygments_lexer": "ipython3",
   "version": "3.6.1"
  }
 },
 "nbformat": 4,
 "nbformat_minor": 2
}
