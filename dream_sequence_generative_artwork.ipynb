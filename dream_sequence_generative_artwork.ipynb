{
 "cells": [
  {
   "cell_type": "code",
   "execution_count": 33,
   "metadata": {
    "collapsed": true
   },
   "outputs": [],
   "source": [
    "import numpy as np\n",
    "import matplotlib.pyplot as plt\n",
    "from matplotlib import colors\n",
    "import seaborn as sns\n",
    "import itertools\n",
    "\n",
    "%matplotlib inline"
   ]
  },
  {
   "cell_type": "code",
   "execution_count": 53,
   "metadata": {},
   "outputs": [],
   "source": [
    "def build_matrix(shape):\n",
    "    m = np.zeros(shape, dtype=int)\n",
    "    m[0,0] = 1\n",
    "    m = m.ravel()\n",
    "    m = color(m)\n",
    "    m = m.reshape(shape)\n",
    "    show(m)\n",
    "    \n",
    "    \n",
    "def color(m):\n",
    "    for i in range(1, m.size):\n",
    "        if m[i-1] == 1:\n",
    "            if np.random.rand() < 0.95:\n",
    "                m[i] = 1\n",
    "        elif np.random.rand() < 0.01:\n",
    "            m[i] = 1\n",
    "    return m\n",
    "\n",
    "\n",
    "def show(m):\n",
    "    fig, ax = plt.subplots(1, 1, figsize=(8,2))\n",
    "    ax.imshow(m)\n",
    "    ax.axis('off')\n",
    "    plt.tight_layout()\n",
    "    plt.savefig(\"test.pdf\")\n",
    "    return fig"
   ]
  },
  {
   "cell_type": "code",
   "execution_count": 54,
   "metadata": {
    "scrolled": true
   },
   "outputs": [
    {
     "data": {
      "image/png": "[encoded data removed]",
      "text/plain": [
       "<matplotlib.figure.Figure at 0x1177fada0>"
      ]
     },
     "metadata": {},
     "output_type": "display_data"
    }
   ],
   "source": [
    "build_matrix((100, 1000))"
   ]
  },
  {
   "cell_type": "code",
   "execution_count": 51,
   "metadata": {},
   "outputs": [],
   "source": [
    "def build_matrix(shape, n):\n",
    "    m = np.zeros(shape, dtype=float)\n",
    "    #m[0,0] = 1\n",
    "    #m = m.ravel()\n",
    "    m = color(m, n)\n",
    "    m = m.reshape(shape)\n",
    "    show(m)\n",
    "    \n",
    "    \n",
    "def color(m, n):\n",
    "    levels = np.arange(0.1, 1, 0.2)\n",
    "    for i in range(n):\n",
    "        m[np.random.choice(m.shape[0]), np.random.choice(m.shape[1])] = np.random.choice(levels)\n",
    "    for _ in range(30):\n",
    "        for x, y in zip(*np.where(m != 0)):\n",
    "            try:\n",
    "                if not np.all(m[np.ix_([x-1, x+2], [y-1, y+2])] == m[x,y]):\n",
    "                \n",
    "                    for xx in range(x-1, x+2):\n",
    "                        for yy in range(y-1, y+2):\n",
    "                            if m[xx, yy] != 1 and np.random.rand() < 0.15:\n",
    "                                m[xx, yy] = m[x,y]\n",
    "                        \n",
    "            except IndexError:\n",
    "                pass\n",
    "    return m\n",
    "\n",
    "\n",
    "def show(m):\n",
    "    fig, ax = plt.subplots(1, 1, figsize=(8,2))\n",
    "    ax.imshow(m, cmap=colors.ListedColormap(['white'] + sns.color_palette('Set2')))\n",
    "    ax.axis('off')\n",
    "    plt.tight_layout()\n",
    "    plt.savefig(\"test.pdf\")\n",
    "    return fig"
   ]
  },
  {
   "cell_type": "code",
   "execution_count": 52,
   "metadata": {},
   "outputs": [
    {
     "data": {
      "image/png": "[encoded data removed]",
      "text/plain": [
       "<matplotlib.figure.Figure at 0x1190e9908>"
      ]
     },
     "metadata": {},
     "output_type": "display_data"
    }
   ],
   "source": [
    "build_matrix((100, 500), 20)"
   ]
  },
  {
   "cell_type": "code",
   "execution_count": 44,
   "metadata": {
    "collapsed": true
   },
   "outputs": [],
   "source": [
    "def build_matrix(shape, n):\n",
    "    m = np.zeros(shape, dtype=float)\n",
    "    m = color(m, n)\n",
    "    m = m.reshape(shape)\n",
    "    show(m)\n",
    "    \n",
    "    \n",
    "def color(m, n):\n",
    "    levels = np.arange(0.1, 1, 0.1)\n",
    "    for i in range(n):\n",
    "        m[np.random.choice(m.shape[0]), np.random.choice(m.shape[1])] = np.random.choice(levels)\n",
    "    \n",
    "    for x, y in zip(*np.where(m != 0)):\n",
    "        xx = x\n",
    "        yy = y\n",
    "        x_rand, y_rand = np.random.choice(levels), np.random.choice(levels)\n",
    "        try:\n",
    "            \n",
    "            \n",
    "            for _ in range(500):\n",
    "#                 xx = np.random.choice(range(xx-1, xx+2))\n",
    "#                 yy = np.random.choice(range(yy-1, yy+2))\n",
    "                xx += 1 if np.random.rand() < x_rand else -1\n",
    "                yy += 1 if np.random.rand() < y_rand else -1\n",
    "                \n",
    "                for i, j in itertools.product(range(xx-1, xx+2), range(yy-1, yy+2)):\n",
    "                    m[i, j] = m[x,y]       \n",
    "                \n",
    "        except IndexError:\n",
    "            pass\n",
    "    return m\n",
    "\n",
    "\n",
    "def show(m):\n",
    "    fig, ax = plt.subplots(1, 1, figsize=(8, 2))\n",
    "    ax.imshow(m, cmap=colors.ListedColormap(['white'] + sns.color_palette('Set2')))\n",
    "    #sns.heatmap(m, ax=ax, cmap=colors.ListedColormap(['white'] + sns.color_palette('Set2')), cbar=False)\n",
    "    ax.axis('off')\n",
    "    plt.tight_layout()\n",
    "    plt.savefig(\"test.png\")\n",
    "    return fig"
   ]
  },
  {
   "cell_type": "code",
   "execution_count": 48,
   "metadata": {},
   "outputs": [
    {
     "data": {
      "image/png": "[encoded data removed]",
      "text/plain": [
       "<matplotlib.figure.Figure at 0x117983eb8>"
      ]
     },
     "metadata": {},
     "output_type": "display_data"
    }
   ],
   "source": [
    "build_matrix((100, 500), 25)"
   ]
  },
  {
   "cell_type": "code",
   "execution_count": null,
   "metadata": {
    "collapsed": true
   },
   "outputs": [],
   "source": []
  },
  {
   "cell_type": "code",
   "execution_count": null,
   "metadata": {
    "collapsed": true
   },
   "outputs": [],
   "source": []
  }
 ],
 "metadata": {
  "kernelspec": {
   "display_name": "Python [default]",
   "language": "python",
   "name": "python3"
  },
  "language_info": {
   "codemirror_mode": {
    "name": "ipython",
    "version": 3
   },
   "file_extension": ".py",
   "mimetype": "text/x-python",
   "name": "python",
   "nbconvert_exporter": "python",
   "pygments_lexer": "ipython3",
   "version": "3.6.1"
  }
 },
 "nbformat": 4,
 "nbformat_minor": 2
}
