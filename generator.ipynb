{
 "cells": [
  {
   "cell_type": "code",
   "execution_count": 6,
   "metadata": {
    "collapsed": true
   },
   "outputs": [],
   "source": [
    "f = open(\"generator.log\")"
   ]
  },
  {
   "cell_type": "code",
   "execution_count": 7,
   "metadata": {
    "collapsed": true
   },
   "outputs": [],
   "source": [
    "bytecolumn = (line.rsplit(None,1)[1] for line in f)"
   ]
  },
  {
   "cell_type": "code",
   "execution_count": 8,
   "metadata": {
    "collapsed": false
   },
   "outputs": [],
   "source": [
    "bytes = (int(x) for x in bytecolumn if x != '-')"
   ]
  },
  {
   "cell_type": "code",
   "execution_count": 9,
   "metadata": {
    "collapsed": false
   },
   "outputs": [
    {
     "data": {
      "text/plain": [
       "135667"
      ]
     },
     "execution_count": 9,
     "metadata": {},
     "output_type": "execute_result"
    }
   ],
   "source": [
    "sum(bytes)"
   ]
  },
  {
   "cell_type": "code",
   "execution_count": 10,
   "metadata": {
    "collapsed": true
   },
   "outputs": [],
   "source": [
    "import math"
   ]
  },
  {
   "cell_type": "code",
   "execution_count": 11,
   "metadata": {
    "collapsed": true
   },
   "outputs": [],
   "source": [
    "def generate(func):\n",
    "    def gen_func(s):\n",
    "        for item in s:\n",
    "            yield func(item)\n",
    "    return gen_func"
   ]
  },
  {
   "cell_type": "code",
   "execution_count": 13,
   "metadata": {
    "collapsed": false
   },
   "outputs": [
    {
     "name": "stdout",
     "output_type": "stream",
     "text": [
      "0.0\n",
      "1.0\n",
      "1.4142135623730951\n",
      "1.7320508075688772\n",
      "2.0\n",
      "2.23606797749979\n",
      "2.449489742783178\n",
      "2.6457513110645907\n",
      "2.8284271247461903\n",
      "3.0\n",
      "3.1622776601683795\n",
      "3.3166247903554\n",
      "3.4641016151377544\n",
      "3.605551275463989\n",
      "3.7416573867739413\n",
      "3.872983346207417\n",
      "4.0\n",
      "4.123105625617661\n",
      "4.242640687119285\n",
      "4.358898943540674\n",
      "4.47213595499958\n",
      "4.58257569495584\n",
      "4.69041575982343\n",
      "4.795831523312719\n",
      "4.898979485566356\n",
      "5.0\n",
      "5.0990195135927845\n",
      "5.196152422706632\n",
      "5.291502622129181\n",
      "5.385164807134504\n",
      "5.477225575051661\n",
      "5.5677643628300215\n",
      "5.656854249492381\n",
      "5.744562646538029\n",
      "5.830951894845301\n",
      "5.916079783099616\n",
      "6.0\n",
      "6.082762530298219\n",
      "6.164414002968976\n",
      "6.244997998398398\n",
      "6.324555320336759\n",
      "6.4031242374328485\n",
      "6.48074069840786\n",
      "6.557438524302\n",
      "6.6332495807108\n",
      "6.708203932499369\n",
      "6.782329983125268\n",
      "6.855654600401044\n",
      "6.928203230275509\n",
      "7.0\n",
      "7.0710678118654755\n",
      "7.14142842854285\n",
      "7.211102550927978\n",
      "7.280109889280518\n",
      "7.3484692283495345\n",
      "7.416198487095663\n",
      "7.483314773547883\n",
      "7.54983443527075\n",
      "7.615773105863909\n",
      "7.681145747868608\n",
      "7.745966692414834\n",
      "7.810249675906654\n",
      "7.874007874011811\n",
      "7.937253933193772\n",
      "8.0\n",
      "8.06225774829855\n",
      "8.12403840463596\n",
      "8.18535277187245\n",
      "8.246211251235321\n",
      "8.306623862918075\n",
      "8.366600265340756\n",
      "8.426149773176359\n",
      "8.48528137423857\n",
      "8.54400374531753\n",
      "8.602325267042627\n",
      "8.660254037844387\n",
      "8.717797887081348\n",
      "8.774964387392123\n",
      "8.831760866327848\n",
      "8.888194417315589\n",
      "8.94427190999916\n",
      "9.0\n",
      "9.055385138137417\n",
      "9.1104335791443\n",
      "9.16515138991168\n",
      "9.219544457292887\n",
      "9.273618495495704\n",
      "9.327379053088816\n",
      "9.38083151964686\n",
      "9.433981132056603\n",
      "9.486832980505138\n",
      "9.539392014169456\n",
      "9.591663046625438\n",
      "9.643650760992955\n",
      "9.695359714832659\n",
      "9.746794344808963\n",
      "9.797958971132712\n",
      "9.848857801796104\n",
      "9.899494936611665\n",
      "9.9498743710662\n"
     ]
    }
   ],
   "source": [
    "gen_sqrt = generate(math.sqrt)\n",
    "for x in gen_sqrt(range(100)):\n",
    "    print(x)"
   ]
  },
  {
   "cell_type": "code",
   "execution_count": 14,
   "metadata": {
    "collapsed": false
   },
   "outputs": [
    {
     "name": "stdout",
     "output_type": "stream",
     "text": [
      "From generator 1\n",
      "From user 2\n",
      "From generator 1\n",
      "From user 3\n",
      "From generator 1\n",
      "From user 4\n",
      "From generator 1\n",
      "From user 5\n",
      "From generator 1\n",
      "From user 6\n",
      "From generator 1\n",
      "From user 7\n",
      "From generator 1\n",
      "From user 8\n",
      "From generator 1\n",
      "From user 9\n",
      "From generator 1\n"
     ]
    }
   ],
   "source": [
    "def coroutine():\n",
    "    for i in range(1, 10):\n",
    "        print(\"From generator {}\".format((yield i)))\n",
    "c = coroutine()\n",
    "c.send(None)\n",
    "try:\n",
    "    while True:\n",
    "        print(\"From user {}\".format(c.send(1)))\n",
    "except StopIteration: pass\n"
   ]
  }
 ],
 "metadata": {
  "anaconda-cloud": {},
  "kernelspec": {
   "display_name": "Python [conda root]",
   "language": "python",
   "name": "conda-root-py"
  },
  "language_info": {
   "codemirror_mode": {
    "name": "ipython",
    "version": 3
   },
   "file_extension": ".py",
   "mimetype": "text/x-python",
   "name": "python",
   "nbconvert_exporter": "python",
   "pygments_lexer": "ipython3",
   "version": "3.5.2"
  }
 },
 "nbformat": 4,
 "nbformat_minor": 1
}
